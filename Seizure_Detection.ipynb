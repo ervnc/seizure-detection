{
  "nbformat": 4,
  "nbformat_minor": 0,
  "metadata": {
    "colab": {
      "provenance": [],
      "include_colab_link": true
    },
    "kernelspec": {
      "name": "python3",
      "display_name": "Python 3"
    },
    "language_info": {
      "name": "python"
    }
  },
  "cells": [
    {
      "cell_type": "markdown",
      "metadata": {
        "id": "view-in-github",
        "colab_type": "text"
      },
      "source": [
        "<a href=\"https://colab.research.google.com/github/ervnc/seizure-detection/blob/main/Seizure_Detection.ipynb\" target=\"_parent\"><img src=\"https://colab.research.google.com/assets/colab-badge.svg\" alt=\"Open In Colab\"/></a>"
      ]
    },
    {
      "cell_type": "code",
      "execution_count": null,
      "metadata": {
        "colab": {
          "base_uri": "https://localhost:8080/"
        },
        "id": "guCUCvhjVyED",
        "outputId": "7ca6ad6d-034b-4d3b-c0aa-f4f1db700e02"
      },
      "outputs": [
        {
          "output_type": "stream",
          "name": "stdout",
          "text": [
            "Requirement already satisfied: pandas in /usr/local/lib/python3.12/dist-packages (2.2.2)\n",
            "Requirement already satisfied: numpy>=1.26.0 in /usr/local/lib/python3.12/dist-packages (from pandas) (2.0.2)\n",
            "Requirement already satisfied: python-dateutil>=2.8.2 in /usr/local/lib/python3.12/dist-packages (from pandas) (2.9.0.post0)\n",
            "Requirement already satisfied: pytz>=2020.1 in /usr/local/lib/python3.12/dist-packages (from pandas) (2025.2)\n",
            "Requirement already satisfied: tzdata>=2022.7 in /usr/local/lib/python3.12/dist-packages (from pandas) (2025.2)\n",
            "Requirement already satisfied: six>=1.5 in /usr/local/lib/python3.12/dist-packages (from python-dateutil>=2.8.2->pandas) (1.17.0)\n"
          ]
        }
      ],
      "source": [
        "!pip install pandas"
      ]
    },
    {
      "cell_type": "code",
      "source": [
        "cd home"
      ],
      "metadata": {
        "id": "wl7dMRl2X9Ai",
        "outputId": "c5d90448-d208-4cf5-8014-9e98774f6e3f",
        "colab": {
          "base_uri": "https://localhost:8080/"
        }
      },
      "execution_count": 4,
      "outputs": [
        {
          "output_type": "stream",
          "name": "stdout",
          "text": [
            "\u001b[0m\u001b[01;36mbin\u001b[0m@                        \u001b[01;36mlib32\u001b[0m@                    \u001b[01;34mroot\u001b[0m/\n",
            "\u001b[01;34mboot\u001b[0m/                       \u001b[01;36mlib64\u001b[0m@                    \u001b[01;34mrun\u001b[0m/\n",
            "\u001b[01;34mcontent\u001b[0m/                    \u001b[01;36mlibx32\u001b[0m@                   \u001b[01;36msbin\u001b[0m@\n",
            "cuda-keyring_1.1-1_all.deb  \u001b[01;34mmedia\u001b[0m/                    \u001b[01;34msrv\u001b[0m/\n",
            "\u001b[01;34mdatalab\u001b[0m/                    \u001b[01;34mmnt\u001b[0m/                      \u001b[01;34msys\u001b[0m/\n",
            "\u001b[01;34mdev\u001b[0m/                        NGC-DL-CONTAINER-LICENSE  \u001b[30;42mtmp\u001b[0m/\n",
            "\u001b[01;34metc\u001b[0m/                        \u001b[01;34mopt\u001b[0m/                      \u001b[01;34mtools\u001b[0m/\n",
            "\u001b[01;34mhome\u001b[0m/                       \u001b[01;34mproc\u001b[0m/                     \u001b[01;34musr\u001b[0m/\n",
            "\u001b[01;34mkaggle\u001b[0m/                     \u001b[01;34mpython-apt\u001b[0m/               \u001b[01;34mvar\u001b[0m/\n",
            "\u001b[01;36mlib\u001b[0m@                        \u001b[01;32mpython-apt.tar.xz\u001b[0m*\n"
          ]
        }
      ]
    }
  ]
}